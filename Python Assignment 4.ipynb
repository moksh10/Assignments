{
 "cells": [
  {
   "cell_type": "markdown",
   "metadata": {},
   "source": [
    "Python Assignment 4"
   ]
  },
  {
   "cell_type": "markdown",
   "metadata": {},
   "source": [
    "1.1 Write a Python Program(with class concepts) to find the area of the triangle using the below\n",
    "formula. area = (s*(s-a)*(s-b)*(s-c)) ** 0.5"
   ]
  },
  {
   "cell_type": "code",
   "execution_count": 8,
   "metadata": {},
   "outputs": [
    {
     "name": "stdout",
     "output_type": "stream",
     "text": [
      "a = 4\n",
      "b = 4\n",
      "c = 5\n",
      "area : 7.806247497997997\n"
     ]
    }
   ],
   "source": [
    "class sides:\n",
    "    def __init__(self, a, b, c):\n",
    "        self.a = float(a)\n",
    "        self.b = float(b)\n",
    "        self.c = float(c)\n",
    "        self.area = 0\n",
    "class triangle(sides):\n",
    "    def __init__(self,a, b, c):\n",
    "        super().__init__(a, b, c)\n",
    "    def calculate_area(self):\n",
    "        s = (self.a + self.b + self.c) / 2\n",
    "        self.area = float((s * (s - self.a) * (s - self.b) * (s - self.c))) ** 0.5\n",
    "    def get_area(self):\n",
    "        return self.area     \n",
    "\n",
    "a,b,c=input(\"a = \"),input(\"b = \"),input(\"c = \")\n",
    "t=triangle(a,b,c)\n",
    "t.calculate_area()\n",
    "print(\"area : {}\".format(t.get_area()))"
   ]
  },
  {
   "cell_type": "markdown",
   "metadata": {},
   "source": [
    "1.2 Write a function filter_long_words() that takes a list of words and an integer n and returns the list of words that are longer than n."
   ]
  },
  {
   "cell_type": "code",
   "execution_count": 10,
   "metadata": {},
   "outputs": [
    {
     "name": "stdout",
     "output_type": "stream",
     "text": [
      "why where whose cat it parrot donkey dog horse\n",
      "where whose parrot donkey horse "
     ]
    }
   ],
   "source": [
    "def filter_long_words(w,n):\n",
    "    r=[]\n",
    "    for i in w:\n",
    "        if len(i)>n:\n",
    "            r.append(i)\n",
    "    return r\n",
    "words=list(map(str,input().split()))\n",
    "ans=filter_long_words(words,3)\n",
    "for i in ans:\n",
    "    print(i,end=\" \")"
   ]
  },
  {
   "cell_type": "markdown",
   "metadata": {},
   "source": [
    "2.1 Write a Python program using function concept that maps list of words into a list of integers\n",
    "representing the lengths of the corresponding words."
   ]
  },
  {
   "cell_type": "code",
   "execution_count": 11,
   "metadata": {},
   "outputs": [
    {
     "name": "stdout",
     "output_type": "stream",
     "text": [
      "ab cd efgt asd wafff aeeew\n",
      "2 2 4 3 5 5 "
     ]
    }
   ],
   "source": [
    "def length_of_words(w):\n",
    "    for i in range(0,len(w)):\n",
    "        l=len(w[i])\n",
    "        w[i]=l\n",
    "    return w\n",
    "words=list(map(str,input().split()))\n",
    "ans=length_of_words(words)\n",
    "for i in ans:\n",
    "    print(i,end=\" \")\n",
    "        "
   ]
  },
  {
   "cell_type": "markdown",
   "metadata": {},
   "source": [
    "2.2 Write a Python function which takes a character (i.e. a string of length 1) and returns True if\n",
    "it is a vowel, False otherwise."
   ]
  },
  {
   "cell_type": "code",
   "execution_count": 13,
   "metadata": {},
   "outputs": [
    {
     "name": "stdout",
     "output_type": "stream",
     "text": [
      "Enter: A\n",
      "True\n",
      "Enter: r\n",
      "False\n"
     ]
    }
   ],
   "source": [
    "def is_vowel(c):\n",
    "    if c=='a' or c=='e' or c=='i' or c=='o' or c=='u' or c=='A' or c=='E' or c=='I' or c=='O' or c=='U':\n",
    "        return True\n",
    "    return False\n",
    "a=input(\"Enter: \")\n",
    "print(is_vowel(a))\n",
    "b=input(\"Enter: \")\n",
    "print(is_vowel(b))"
   ]
  },
  {
   "cell_type": "code",
   "execution_count": null,
   "metadata": {},
   "outputs": [],
   "source": []
  }
 ],
 "metadata": {
  "kernelspec": {
   "display_name": "Python 3",
   "language": "python",
   "name": "python3"
  },
  "language_info": {
   "codemirror_mode": {
    "name": "ipython",
    "version": 3
   },
   "file_extension": ".py",
   "mimetype": "text/x-python",
   "name": "python",
   "nbconvert_exporter": "python",
   "pygments_lexer": "ipython3",
   "version": "3.8.3"
  }
 },
 "nbformat": 4,
 "nbformat_minor": 4
}
